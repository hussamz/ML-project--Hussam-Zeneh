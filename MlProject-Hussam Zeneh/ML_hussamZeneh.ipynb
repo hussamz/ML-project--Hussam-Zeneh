{
 "cells": [
  {
   "cell_type": "code",
   "execution_count": 1,
   "id": "7aed7c80",
   "metadata": {},
   "outputs": [],
   "source": [
    "import pandas as pd"
   ]
  },
  {
   "cell_type": "code",
   "execution_count": 2,
   "id": "e59d3b00",
   "metadata": {},
   "outputs": [],
   "source": [
    "train_data = pd.read_csv('dataset/train.csv')\n",
    "test_data = pd.read_csv('dataset/test.csv')\n",
    "test_data_y = pd.read_csv('dataset/gender_submission.csv')"
   ]
  },
  {
   "cell_type": "code",
   "execution_count": 3,
   "id": "e68f969f",
   "metadata": {},
   "outputs": [
    {
     "data": {
      "text/html": [
       "<div>\n",
       "<style scoped>\n",
       "    .dataframe tbody tr th:only-of-type {\n",
       "        vertical-align: middle;\n",
       "    }\n",
       "\n",
       "    .dataframe tbody tr th {\n",
       "        vertical-align: top;\n",
       "    }\n",
       "\n",
       "    .dataframe thead th {\n",
       "        text-align: right;\n",
       "    }\n",
       "</style>\n",
       "<table border=\"1\" class=\"dataframe\">\n",
       "  <thead>\n",
       "    <tr style=\"text-align: right;\">\n",
       "      <th></th>\n",
       "      <th>PassengerId</th>\n",
       "      <th>Survived</th>\n",
       "      <th>Pclass</th>\n",
       "      <th>Name</th>\n",
       "      <th>Sex</th>\n",
       "      <th>Age</th>\n",
       "      <th>SibSp</th>\n",
       "      <th>Parch</th>\n",
       "      <th>Ticket</th>\n",
       "      <th>Fare</th>\n",
       "      <th>Cabin</th>\n",
       "      <th>Embarked</th>\n",
       "    </tr>\n",
       "  </thead>\n",
       "  <tbody>\n",
       "    <tr>\n",
       "      <th>0</th>\n",
       "      <td>1</td>\n",
       "      <td>0</td>\n",
       "      <td>3</td>\n",
       "      <td>Braund, Mr. Owen Harris</td>\n",
       "      <td>male</td>\n",
       "      <td>22.0</td>\n",
       "      <td>1</td>\n",
       "      <td>0</td>\n",
       "      <td>A/5 21171</td>\n",
       "      <td>7.2500</td>\n",
       "      <td>NaN</td>\n",
       "      <td>S</td>\n",
       "    </tr>\n",
       "    <tr>\n",
       "      <th>1</th>\n",
       "      <td>2</td>\n",
       "      <td>1</td>\n",
       "      <td>1</td>\n",
       "      <td>Cumings, Mrs. John Bradley (Florence Briggs Th...</td>\n",
       "      <td>female</td>\n",
       "      <td>38.0</td>\n",
       "      <td>1</td>\n",
       "      <td>0</td>\n",
       "      <td>PC 17599</td>\n",
       "      <td>71.2833</td>\n",
       "      <td>C85</td>\n",
       "      <td>C</td>\n",
       "    </tr>\n",
       "    <tr>\n",
       "      <th>2</th>\n",
       "      <td>3</td>\n",
       "      <td>1</td>\n",
       "      <td>3</td>\n",
       "      <td>Heikkinen, Miss. Laina</td>\n",
       "      <td>female</td>\n",
       "      <td>26.0</td>\n",
       "      <td>0</td>\n",
       "      <td>0</td>\n",
       "      <td>STON/O2. 3101282</td>\n",
       "      <td>7.9250</td>\n",
       "      <td>NaN</td>\n",
       "      <td>S</td>\n",
       "    </tr>\n",
       "    <tr>\n",
       "      <th>3</th>\n",
       "      <td>4</td>\n",
       "      <td>1</td>\n",
       "      <td>1</td>\n",
       "      <td>Futrelle, Mrs. Jacques Heath (Lily May Peel)</td>\n",
       "      <td>female</td>\n",
       "      <td>35.0</td>\n",
       "      <td>1</td>\n",
       "      <td>0</td>\n",
       "      <td>113803</td>\n",
       "      <td>53.1000</td>\n",
       "      <td>C123</td>\n",
       "      <td>S</td>\n",
       "    </tr>\n",
       "    <tr>\n",
       "      <th>4</th>\n",
       "      <td>5</td>\n",
       "      <td>0</td>\n",
       "      <td>3</td>\n",
       "      <td>Allen, Mr. William Henry</td>\n",
       "      <td>male</td>\n",
       "      <td>35.0</td>\n",
       "      <td>0</td>\n",
       "      <td>0</td>\n",
       "      <td>373450</td>\n",
       "      <td>8.0500</td>\n",
       "      <td>NaN</td>\n",
       "      <td>S</td>\n",
       "    </tr>\n",
       "  </tbody>\n",
       "</table>\n",
       "</div>"
      ],
      "text/plain": [
       "   PassengerId  Survived  Pclass  \\\n",
       "0            1         0       3   \n",
       "1            2         1       1   \n",
       "2            3         1       3   \n",
       "3            4         1       1   \n",
       "4            5         0       3   \n",
       "\n",
       "                                                Name     Sex   Age  SibSp  \\\n",
       "0                            Braund, Mr. Owen Harris    male  22.0      1   \n",
       "1  Cumings, Mrs. John Bradley (Florence Briggs Th...  female  38.0      1   \n",
       "2                             Heikkinen, Miss. Laina  female  26.0      0   \n",
       "3       Futrelle, Mrs. Jacques Heath (Lily May Peel)  female  35.0      1   \n",
       "4                           Allen, Mr. William Henry    male  35.0      0   \n",
       "\n",
       "   Parch            Ticket     Fare Cabin Embarked  \n",
       "0      0         A/5 21171   7.2500   NaN        S  \n",
       "1      0          PC 17599  71.2833   C85        C  \n",
       "2      0  STON/O2. 3101282   7.9250   NaN        S  \n",
       "3      0            113803  53.1000  C123        S  \n",
       "4      0            373450   8.0500   NaN        S  "
      ]
     },
     "execution_count": 3,
     "metadata": {},
     "output_type": "execute_result"
    }
   ],
   "source": [
    "train_data.head()"
   ]
  },
  {
   "cell_type": "code",
   "execution_count": 4,
   "id": "37894583-2b0e-49b3-bb9e-ba396593aff4",
   "metadata": {},
   "outputs": [
    {
     "data": {
      "text/html": [
       "<div>\n",
       "<style scoped>\n",
       "    .dataframe tbody tr th:only-of-type {\n",
       "        vertical-align: middle;\n",
       "    }\n",
       "\n",
       "    .dataframe tbody tr th {\n",
       "        vertical-align: top;\n",
       "    }\n",
       "\n",
       "    .dataframe thead th {\n",
       "        text-align: right;\n",
       "    }\n",
       "</style>\n",
       "<table border=\"1\" class=\"dataframe\">\n",
       "  <thead>\n",
       "    <tr style=\"text-align: right;\">\n",
       "      <th></th>\n",
       "      <th>PassengerId</th>\n",
       "      <th>Pclass</th>\n",
       "      <th>Name</th>\n",
       "      <th>Sex</th>\n",
       "      <th>Age</th>\n",
       "      <th>SibSp</th>\n",
       "      <th>Parch</th>\n",
       "      <th>Ticket</th>\n",
       "      <th>Fare</th>\n",
       "      <th>Cabin</th>\n",
       "      <th>Embarked</th>\n",
       "    </tr>\n",
       "  </thead>\n",
       "  <tbody>\n",
       "    <tr>\n",
       "      <th>0</th>\n",
       "      <td>892</td>\n",
       "      <td>3</td>\n",
       "      <td>Kelly, Mr. James</td>\n",
       "      <td>male</td>\n",
       "      <td>34.5</td>\n",
       "      <td>0</td>\n",
       "      <td>0</td>\n",
       "      <td>330911</td>\n",
       "      <td>7.8292</td>\n",
       "      <td>NaN</td>\n",
       "      <td>Q</td>\n",
       "    </tr>\n",
       "    <tr>\n",
       "      <th>1</th>\n",
       "      <td>893</td>\n",
       "      <td>3</td>\n",
       "      <td>Wilkes, Mrs. James (Ellen Needs)</td>\n",
       "      <td>female</td>\n",
       "      <td>47.0</td>\n",
       "      <td>1</td>\n",
       "      <td>0</td>\n",
       "      <td>363272</td>\n",
       "      <td>7.0000</td>\n",
       "      <td>NaN</td>\n",
       "      <td>S</td>\n",
       "    </tr>\n",
       "    <tr>\n",
       "      <th>2</th>\n",
       "      <td>894</td>\n",
       "      <td>2</td>\n",
       "      <td>Myles, Mr. Thomas Francis</td>\n",
       "      <td>male</td>\n",
       "      <td>62.0</td>\n",
       "      <td>0</td>\n",
       "      <td>0</td>\n",
       "      <td>240276</td>\n",
       "      <td>9.6875</td>\n",
       "      <td>NaN</td>\n",
       "      <td>Q</td>\n",
       "    </tr>\n",
       "    <tr>\n",
       "      <th>3</th>\n",
       "      <td>895</td>\n",
       "      <td>3</td>\n",
       "      <td>Wirz, Mr. Albert</td>\n",
       "      <td>male</td>\n",
       "      <td>27.0</td>\n",
       "      <td>0</td>\n",
       "      <td>0</td>\n",
       "      <td>315154</td>\n",
       "      <td>8.6625</td>\n",
       "      <td>NaN</td>\n",
       "      <td>S</td>\n",
       "    </tr>\n",
       "    <tr>\n",
       "      <th>4</th>\n",
       "      <td>896</td>\n",
       "      <td>3</td>\n",
       "      <td>Hirvonen, Mrs. Alexander (Helga E Lindqvist)</td>\n",
       "      <td>female</td>\n",
       "      <td>22.0</td>\n",
       "      <td>1</td>\n",
       "      <td>1</td>\n",
       "      <td>3101298</td>\n",
       "      <td>12.2875</td>\n",
       "      <td>NaN</td>\n",
       "      <td>S</td>\n",
       "    </tr>\n",
       "  </tbody>\n",
       "</table>\n",
       "</div>"
      ],
      "text/plain": [
       "   PassengerId  Pclass                                          Name     Sex  \\\n",
       "0          892       3                              Kelly, Mr. James    male   \n",
       "1          893       3              Wilkes, Mrs. James (Ellen Needs)  female   \n",
       "2          894       2                     Myles, Mr. Thomas Francis    male   \n",
       "3          895       3                              Wirz, Mr. Albert    male   \n",
       "4          896       3  Hirvonen, Mrs. Alexander (Helga E Lindqvist)  female   \n",
       "\n",
       "    Age  SibSp  Parch   Ticket     Fare Cabin Embarked  \n",
       "0  34.5      0      0   330911   7.8292   NaN        Q  \n",
       "1  47.0      1      0   363272   7.0000   NaN        S  \n",
       "2  62.0      0      0   240276   9.6875   NaN        Q  \n",
       "3  27.0      0      0   315154   8.6625   NaN        S  \n",
       "4  22.0      1      1  3101298  12.2875   NaN        S  "
      ]
     },
     "execution_count": 4,
     "metadata": {},
     "output_type": "execute_result"
    }
   ],
   "source": [
    "test_data.head()"
   ]
  },
  {
   "cell_type": "code",
   "execution_count": 5,
   "id": "a82a212b-5365-4409-be71-370b972674c8",
   "metadata": {},
   "outputs": [
    {
     "data": {
      "text/html": [
       "<div>\n",
       "<style scoped>\n",
       "    .dataframe tbody tr th:only-of-type {\n",
       "        vertical-align: middle;\n",
       "    }\n",
       "\n",
       "    .dataframe tbody tr th {\n",
       "        vertical-align: top;\n",
       "    }\n",
       "\n",
       "    .dataframe thead th {\n",
       "        text-align: right;\n",
       "    }\n",
       "</style>\n",
       "<table border=\"1\" class=\"dataframe\">\n",
       "  <thead>\n",
       "    <tr style=\"text-align: right;\">\n",
       "      <th></th>\n",
       "      <th>PassengerId</th>\n",
       "      <th>Survived</th>\n",
       "    </tr>\n",
       "  </thead>\n",
       "  <tbody>\n",
       "    <tr>\n",
       "      <th>0</th>\n",
       "      <td>892</td>\n",
       "      <td>0</td>\n",
       "    </tr>\n",
       "    <tr>\n",
       "      <th>1</th>\n",
       "      <td>893</td>\n",
       "      <td>1</td>\n",
       "    </tr>\n",
       "    <tr>\n",
       "      <th>2</th>\n",
       "      <td>894</td>\n",
       "      <td>0</td>\n",
       "    </tr>\n",
       "    <tr>\n",
       "      <th>3</th>\n",
       "      <td>895</td>\n",
       "      <td>0</td>\n",
       "    </tr>\n",
       "    <tr>\n",
       "      <th>4</th>\n",
       "      <td>896</td>\n",
       "      <td>1</td>\n",
       "    </tr>\n",
       "  </tbody>\n",
       "</table>\n",
       "</div>"
      ],
      "text/plain": [
       "   PassengerId  Survived\n",
       "0          892         0\n",
       "1          893         1\n",
       "2          894         0\n",
       "3          895         0\n",
       "4          896         1"
      ]
     },
     "execution_count": 5,
     "metadata": {},
     "output_type": "execute_result"
    }
   ],
   "source": [
    "test_data_y.head()"
   ]
  },
  {
   "cell_type": "markdown",
   "id": "ca6a621b",
   "metadata": {},
   "source": [
    "# Check for missing values"
   ]
  },
  {
   "cell_type": "code",
   "execution_count": 6,
   "id": "61dc780a",
   "metadata": {},
   "outputs": [
    {
     "name": "stdout",
     "output_type": "stream",
     "text": [
      "PassengerId      0\n",
      "Survived         0\n",
      "Pclass           0\n",
      "Name             0\n",
      "Sex              0\n",
      "Age            177\n",
      "SibSp            0\n",
      "Parch            0\n",
      "Ticket           0\n",
      "Fare             0\n",
      "Cabin          687\n",
      "Embarked         2\n",
      "dtype: int64\n"
     ]
    }
   ],
   "source": [
    "missing_values = train_data.isnull().sum()\n",
    "print(missing_values)"
   ]
  },
  {
   "cell_type": "code",
   "execution_count": 7,
   "id": "41820124-5fc0-40b3-8d1f-e095f71d5932",
   "metadata": {},
   "outputs": [
    {
     "name": "stdout",
     "output_type": "stream",
     "text": [
      "PassengerId      0\n",
      "Pclass           0\n",
      "Name             0\n",
      "Sex              0\n",
      "Age             86\n",
      "SibSp            0\n",
      "Parch            0\n",
      "Ticket           0\n",
      "Fare             1\n",
      "Cabin          327\n",
      "Embarked         0\n",
      "dtype: int64\n"
     ]
    }
   ],
   "source": [
    "missing_values = test_data.isnull().sum()\n",
    "print(missing_values)"
   ]
  },
  {
   "cell_type": "code",
   "execution_count": 8,
   "id": "0a9ac098-a34c-4d4d-8160-9d673f02cebb",
   "metadata": {},
   "outputs": [
    {
     "name": "stdout",
     "output_type": "stream",
     "text": [
      "PassengerId    0\n",
      "Survived       0\n",
      "dtype: int64\n"
     ]
    }
   ],
   "source": [
    "missing_values = test_data_y.isnull().sum()\n",
    "print(missing_values)"
   ]
  },
  {
   "cell_type": "code",
   "execution_count": 9,
   "id": "6428bbd3",
   "metadata": {},
   "outputs": [],
   "source": [
    "# Impute missing values for Age with the median\n",
    "train_data['Age'].fillna(train_data['Age'].median(), inplace=True)\n",
    "\n",
    "# Impute missing values for Embarked with the mode\n",
    "train_data['Embarked'].fillna(train_data['Embarked'].mode()[0], inplace=True)\n",
    "\n",
    "\n",
    "# Drop the Cabin column due to too many missing values\n",
    "train_data.drop(columns=['Cabin'], inplace=True)"
   ]
  },
  {
   "cell_type": "code",
   "execution_count": 10,
   "id": "d9f6aa66-626c-4f4d-ba23-4cec18bd6526",
   "metadata": {},
   "outputs": [],
   "source": [
    "# Impute missing values for Age with the median\n",
    "test_data['Age'].fillna(test_data['Age'].median(), inplace=True)\n",
    "\n",
    "# Impute missing values for Embarked with the mode\n",
    "test_data['Embarked'].fillna(test_data['Embarked'].mode()[0], inplace=True)\n",
    "\n",
    "test_data['Fare'].fillna(test_data['Fare'].median(), inplace=True)\n",
    "\n",
    "\n",
    "# Drop the Cabin column due to too many missing values\n",
    "test_data.drop(columns=['Cabin'], inplace=True)"
   ]
  },
  {
   "cell_type": "code",
   "execution_count": 11,
   "id": "ef4abb96",
   "metadata": {},
   "outputs": [
    {
     "name": "stdout",
     "output_type": "stream",
     "text": [
      "PassengerId    0\n",
      "Survived       0\n",
      "Pclass         0\n",
      "Name           0\n",
      "Sex            0\n",
      "Age            0\n",
      "SibSp          0\n",
      "Parch          0\n",
      "Ticket         0\n",
      "Fare           0\n",
      "Embarked       0\n",
      "dtype: int64\n"
     ]
    }
   ],
   "source": [
    "missing_values_after = train_data.isnull().sum()\n",
    "print(missing_values_after)"
   ]
  },
  {
   "cell_type": "code",
   "execution_count": 12,
   "id": "8fd11074-5b95-42db-8fcb-565062564cf2",
   "metadata": {},
   "outputs": [
    {
     "name": "stdout",
     "output_type": "stream",
     "text": [
      "PassengerId    0\n",
      "Pclass         0\n",
      "Name           0\n",
      "Sex            0\n",
      "Age            0\n",
      "SibSp          0\n",
      "Parch          0\n",
      "Ticket         0\n",
      "Fare           0\n",
      "Embarked       0\n",
      "dtype: int64\n"
     ]
    }
   ],
   "source": [
    "missing_values_after =test_data.isnull().sum()\n",
    "print(missing_values_after)"
   ]
  },
  {
   "cell_type": "code",
   "execution_count": 13,
   "id": "a74fb2a9",
   "metadata": {},
   "outputs": [],
   "source": [
    "numerical_features = ['Age', 'Fare', 'SibSp', 'Parch']"
   ]
  },
  {
   "cell_type": "code",
   "execution_count": 14,
   "id": "7734a018",
   "metadata": {},
   "outputs": [],
   "source": [
    "from sklearn.preprocessing import StandardScaler"
   ]
  },
  {
   "cell_type": "code",
   "execution_count": 15,
   "id": "c11241ef",
   "metadata": {},
   "outputs": [],
   "source": [
    "scaler = StandardScaler()"
   ]
  },
  {
   "cell_type": "code",
   "execution_count": 16,
   "id": "46dc3274",
   "metadata": {},
   "outputs": [],
   "source": [
    "train_data[numerical_features] = scaler.fit_transform(train_data[numerical_features])\n",
    "test_data[numerical_features] = scaler.fit_transform(test_data[numerical_features])"
   ]
  },
  {
   "cell_type": "code",
   "execution_count": 17,
   "id": "2090798b",
   "metadata": {},
   "outputs": [
    {
     "name": "stdout",
     "output_type": "stream",
     "text": [
      "   PassengerId  Survived  Pclass  \\\n",
      "0            1         0       3   \n",
      "1            2         1       1   \n",
      "2            3         1       3   \n",
      "3            4         1       1   \n",
      "4            5         0       3   \n",
      "\n",
      "                                                Name     Sex       Age  \\\n",
      "0                            Braund, Mr. Owen Harris    male -0.565736   \n",
      "1  Cumings, Mrs. John Bradley (Florence Briggs Th...  female  0.663861   \n",
      "2                             Heikkinen, Miss. Laina  female -0.258337   \n",
      "3       Futrelle, Mrs. Jacques Heath (Lily May Peel)  female  0.433312   \n",
      "4                           Allen, Mr. William Henry    male  0.433312   \n",
      "\n",
      "      SibSp     Parch            Ticket      Fare Embarked  \n",
      "0  0.432793 -0.473674         A/5 21171 -0.502445        S  \n",
      "1  0.432793 -0.473674          PC 17599  0.786845        C  \n",
      "2 -0.474545 -0.473674  STON/O2. 3101282 -0.488854        S  \n",
      "3  0.432793 -0.473674            113803  0.420730        S  \n",
      "4 -0.474545 -0.473674            373450 -0.486337        S  \n"
     ]
    }
   ],
   "source": [
    "print(train_data.head())"
   ]
  },
  {
   "cell_type": "code",
   "execution_count": 18,
   "id": "f3ead44b-c31e-41f7-aa54-67106f307d4e",
   "metadata": {},
   "outputs": [
    {
     "name": "stdout",
     "output_type": "stream",
     "text": [
      "   PassengerId  Pclass                                          Name     Sex  \\\n",
      "0          892       3                              Kelly, Mr. James    male   \n",
      "1          893       3              Wilkes, Mrs. James (Ellen Needs)  female   \n",
      "2          894       2                     Myles, Mr. Thomas Francis    male   \n",
      "3          895       3                              Wirz, Mr. Albert    male   \n",
      "4          896       3  Hirvonen, Mrs. Alexander (Helga E Lindqvist)  female   \n",
      "\n",
      "        Age     SibSp     Parch   Ticket      Fare Embarked  \n",
      "0  0.386231 -0.499470 -0.400248   330911 -0.497413        Q  \n",
      "1  1.371370  0.616992 -0.400248   363272 -0.512278        S  \n",
      "2  2.553537 -0.499470 -0.400248   240276 -0.464100        Q  \n",
      "3 -0.204852 -0.499470 -0.400248   315154 -0.482475        S  \n",
      "4 -0.598908  0.616992  0.619896  3101298 -0.417492        S  \n"
     ]
    }
   ],
   "source": [
    "print(test_data.head())"
   ]
  },
  {
   "cell_type": "code",
   "execution_count": 19,
   "id": "e3e3e7e8",
   "metadata": {},
   "outputs": [
    {
     "name": "stdout",
     "output_type": "stream",
     "text": [
      "Number of duplicate rows:  0\n",
      "Number of test duplicate rows:  0\n"
     ]
    }
   ],
   "source": [
    "duplicate_rows = train_data.duplicated()\n",
    "print(\"Number of duplicate rows: \", duplicate_rows.sum())\n",
    "duplicate_rows = test_data.duplicated()\n",
    "print(\"Number of test duplicate rows: \", duplicate_rows.sum())"
   ]
  },
  {
   "cell_type": "code",
   "execution_count": 20,
   "id": "89f18159",
   "metadata": {},
   "outputs": [],
   "source": [
    "# One-hot encode the categorical features\n",
    "train_data_encoded = pd.get_dummies(train_data, columns=['Sex', 'Embarked'])\n",
    "# One-hot encode the categorical features\n",
    "test_data_encoded = pd.get_dummies(test_data, columns=['Sex', 'Embarked'])"
   ]
  },
  {
   "cell_type": "code",
   "execution_count": 21,
   "id": "81881b54",
   "metadata": {},
   "outputs": [
    {
     "name": "stdout",
     "output_type": "stream",
     "text": [
      "   PassengerId  Survived  Pclass  \\\n",
      "0            1         0       3   \n",
      "1            2         1       1   \n",
      "2            3         1       3   \n",
      "3            4         1       1   \n",
      "4            5         0       3   \n",
      "\n",
      "                                                Name       Age     SibSp  \\\n",
      "0                            Braund, Mr. Owen Harris -0.565736  0.432793   \n",
      "1  Cumings, Mrs. John Bradley (Florence Briggs Th...  0.663861  0.432793   \n",
      "2                             Heikkinen, Miss. Laina -0.258337 -0.474545   \n",
      "3       Futrelle, Mrs. Jacques Heath (Lily May Peel)  0.433312  0.432793   \n",
      "4                           Allen, Mr. William Henry  0.433312 -0.474545   \n",
      "\n",
      "      Parch            Ticket      Fare  Sex_female  Sex_male  Embarked_C  \\\n",
      "0 -0.473674         A/5 21171 -0.502445       False      True       False   \n",
      "1 -0.473674          PC 17599  0.786845        True     False        True   \n",
      "2 -0.473674  STON/O2. 3101282 -0.488854        True     False       False   \n",
      "3 -0.473674            113803  0.420730        True     False       False   \n",
      "4 -0.473674            373450 -0.486337       False      True       False   \n",
      "\n",
      "   Embarked_Q  Embarked_S  \n",
      "0       False        True  \n",
      "1       False       False  \n",
      "2       False        True  \n",
      "3       False        True  \n",
      "4       False        True  \n"
     ]
    }
   ],
   "source": [
    "print(train_data_encoded.head())"
   ]
  },
  {
   "cell_type": "code",
   "execution_count": 22,
   "id": "34a1be6b-d48f-4874-81e3-33f3a99d2f7c",
   "metadata": {},
   "outputs": [
    {
     "name": "stdout",
     "output_type": "stream",
     "text": [
      "   PassengerId  Pclass                                          Name  \\\n",
      "0          892       3                              Kelly, Mr. James   \n",
      "1          893       3              Wilkes, Mrs. James (Ellen Needs)   \n",
      "2          894       2                     Myles, Mr. Thomas Francis   \n",
      "3          895       3                              Wirz, Mr. Albert   \n",
      "4          896       3  Hirvonen, Mrs. Alexander (Helga E Lindqvist)   \n",
      "\n",
      "        Age     SibSp     Parch   Ticket      Fare  Sex_female  Sex_male  \\\n",
      "0  0.386231 -0.499470 -0.400248   330911 -0.497413       False      True   \n",
      "1  1.371370  0.616992 -0.400248   363272 -0.512278        True     False   \n",
      "2  2.553537 -0.499470 -0.400248   240276 -0.464100       False      True   \n",
      "3 -0.204852 -0.499470 -0.400248   315154 -0.482475       False      True   \n",
      "4 -0.598908  0.616992  0.619896  3101298 -0.417492        True     False   \n",
      "\n",
      "   Embarked_C  Embarked_Q  Embarked_S  \n",
      "0       False        True       False  \n",
      "1       False       False        True  \n",
      "2       False        True       False  \n",
      "3       False       False        True  \n",
      "4       False       False        True  \n"
     ]
    }
   ],
   "source": [
    "print(test_data_encoded.head())"
   ]
  },
  {
   "cell_type": "code",
   "execution_count": 23,
   "id": "cf454893",
   "metadata": {},
   "outputs": [],
   "source": [
    "from sklearn.model_selection import train_test_split"
   ]
  },
  {
   "cell_type": "code",
   "execution_count": 24,
   "id": "88c20527",
   "metadata": {},
   "outputs": [],
   "source": [
    "X_train = train_data_encoded.drop(columns=['Survived', 'PassengerId', 'Name', 'Ticket'])\n",
    "y_train = train_data_encoded['Survived']"
   ]
  },
  {
   "cell_type": "code",
   "execution_count": 25,
   "id": "4054693a",
   "metadata": {},
   "outputs": [],
   "source": [
    "# X_train, X_test, y_train, y_test = train_test_split(X, y, test_size=0.2, random_state=42)\n",
    "X_test=test_data_encoded.drop(columns=[ 'PassengerId', 'Name', 'Ticket'])\n",
    "y_test = test_data_y['Survived']"
   ]
  },
  {
   "cell_type": "markdown",
   "id": "18bbab5b",
   "metadata": {},
   "source": [
    "# DecisionTree"
   ]
  },
  {
   "cell_type": "code",
   "execution_count": 26,
   "id": "1d608086",
   "metadata": {},
   "outputs": [],
   "source": [
    "from sklearn.tree import DecisionTreeClassifier\n",
    "from sklearn.metrics import precision_score, recall_score\n",
    "from sklearn.model_selection import GridSearchCV"
   ]
  },
  {
   "cell_type": "markdown",
   "id": "41d6bd0c",
   "metadata": {},
   "source": [
    "# Define the parameter grid for DecisionTree"
   ]
  },
  {
   "cell_type": "code",
   "execution_count": 27,
   "id": "8ad19485",
   "metadata": {},
   "outputs": [],
   "source": [
    "param_grid_dct = {\n",
    "    'criterion': [\"gini\", \"entropy\", \"log_loss\"]\n",
    "}"
   ]
  },
  {
   "cell_type": "code",
   "execution_count": 28,
   "id": "dc28433d",
   "metadata": {},
   "outputs": [],
   "source": [
    "DTC= DecisionTreeClassifier()"
   ]
  },
  {
   "cell_type": "code",
   "execution_count": 29,
   "id": "3e463480",
   "metadata": {},
   "outputs": [],
   "source": [
    "grid_search_dct = GridSearchCV(DTC, param_grid_dct, cv=5, scoring='accuracy')"
   ]
  },
  {
   "cell_type": "markdown",
   "id": "fa4eb726",
   "metadata": {},
   "source": [
    "fit the model"
   ]
  },
  {
   "cell_type": "code",
   "execution_count": 30,
   "id": "f5a4c831",
   "metadata": {},
   "outputs": [],
   "source": [
    "grid_search_dct = GridSearchCV(DTC, param_grid_dct, cv=5, scoring='accuracy')"
   ]
  },
  {
   "cell_type": "code",
   "execution_count": 31,
   "id": "0ea3bc54",
   "metadata": {},
   "outputs": [
    {
     "name": "stdout",
     "output_type": "stream",
     "text": [
      "Shape of X_train: (891, 10)\n",
      "Shape of y_train: (891,)\n"
     ]
    }
   ],
   "source": [
    "print(\"Shape of X_train:\", X_train.shape)\n",
    "print(\"Shape of y_train:\", y_train.shape)"
   ]
  },
  {
   "cell_type": "code",
   "execution_count": 33,
   "id": "11d62953",
   "metadata": {
    "scrolled": true
   },
   "outputs": [
    {
     "name": "stdout",
     "output_type": "stream",
     "text": [
      "Best parameters for DecisionTree: {'criterion': 'log_loss'}\n",
      "DecisionTree - Precision: 0.6712328767123288, Recall: 0.6447368421052632\n"
     ]
    }
   ],
   "source": [
    "# Fit the model\n",
    "try:\n",
    "    grid_search_dct.fit(X_train, y_train)\n",
    "    best_params_dct = grid_search_dct.best_params_\n",
    "    print(f\"Best parameters for DecisionTree: {best_params_dct}\")\n",
    "\n",
    "    # Predict on the test set\n",
    "    y_pred_dct = grid_search_dct.predict(X_test)\n",
    "\n",
    "    # Evaluate the model\n",
    "    precision_dct = precision_score(y_test, y_pred_dct)\n",
    "    recall_dct = recall_score(y_test, y_pred_dct)\n",
    "    print(f\"DecisionTree - Precision: {precision_dct}, Recall: {recall_dct}\")\n",
    "except Exception as e:\n",
    "    print(\"Error during model fitting or evaluation:\", e)\n"
   ]
  },
  {
   "cell_type": "code",
   "execution_count": 34,
   "id": "f465a507",
   "metadata": {},
   "outputs": [],
   "source": [
    "from sklearn.ensemble import RandomForestClassifier"
   ]
  },
  {
   "cell_type": "code",
   "execution_count": 35,
   "id": "e4263701",
   "metadata": {},
   "outputs": [],
   "source": [
    "param_grid_rf  = {\n",
    "    'n_estimators': [50, 100, 200],\n",
    "    'max_depth': [None, 10, 20, 30],\n",
    "    'min_samples_split': [2, 5, 10]\n",
    "}"
   ]
  },
  {
   "cell_type": "code",
   "execution_count": 36,
   "id": "d30bbea9",
   "metadata": {},
   "outputs": [],
   "source": [
    "rf = RandomForestClassifier(random_state=42)"
   ]
  },
  {
   "cell_type": "code",
   "execution_count": 37,
   "id": "511afe33",
   "metadata": {},
   "outputs": [],
   "source": [
    "grid_search_rf = GridSearchCV(rf, param_grid_rf, cv=5, scoring='accuracy')"
   ]
  },
  {
   "cell_type": "code",
   "execution_count": 38,
   "id": "00165cb6",
   "metadata": {},
   "outputs": [
    {
     "name": "stdout",
     "output_type": "stream",
     "text": [
      "Best parameters for Random Forest: {'max_depth': 10, 'min_samples_split': 2, 'n_estimators': 200}\n",
      "Random Forest - Precision: 0.8345864661654135, Recall: 0.7302631578947368\n"
     ]
    }
   ],
   "source": [
    "# Fit the model\n",
    "grid_search_rf.fit(X_train, y_train)\n",
    "\n",
    "# Best parameters\n",
    "best_params_rf = grid_search_rf.best_params_\n",
    "print(f\"Best parameters for Random Forest: {best_params_rf}\")\n",
    "\n",
    "# Predict on the test set\n",
    "y_pred_rf = grid_search_rf.predict(X_test)\n",
    "\n",
    "# Evaluate the model\n",
    "precision_rf = precision_score(y_test, y_pred_rf)\n",
    "recall_rf = recall_score(y_test, y_pred_rf)\n",
    "print(f\"Random Forest - Precision: {precision_rf}, Recall: {recall_rf}\")"
   ]
  },
  {
   "cell_type": "code",
   "execution_count": 39,
   "id": "d5e9b0c6-4517-42e0-8706-4cc8d65b4b35",
   "metadata": {},
   "outputs": [
    {
     "data": {
      "text/plain": [
       "array([0, 0, 0, 0, 1, 0, 0, 0, 1, 0, 0, 0, 1, 0, 1, 1, 0, 1, 0, 1, 1, 1,\n",
       "       1, 1, 1, 0, 1, 0, 0, 0, 0, 0, 1, 0, 0, 0, 1, 0, 0, 1, 0, 0, 0, 1,\n",
       "       1, 0, 0, 0, 1, 1, 0, 0, 1, 1, 0, 0, 0, 0, 0, 1, 0, 0, 0, 0, 0, 1,\n",
       "       0, 0, 0, 1, 0, 0, 0, 0, 1, 0, 0, 1, 0, 0, 1, 0, 0, 0, 0, 0, 0, 1,\n",
       "       0, 1, 0, 0, 1, 0, 0, 0, 1, 0, 1, 0, 1, 0, 0, 0, 1, 0, 0, 0, 0, 0,\n",
       "       0, 0, 1, 0, 1, 0, 0, 1, 0, 1, 1, 0, 1, 0, 0, 1, 0, 1, 0, 0, 0, 0,\n",
       "       0, 0, 0, 0, 0, 0, 1, 0, 0, 1, 0, 0, 0, 0, 0, 0, 0, 0, 1, 0, 0, 1,\n",
       "       0, 0, 1, 1, 0, 1, 0, 1, 1, 0, 0, 1, 0, 0, 1, 0, 0, 0, 0, 0, 0, 1,\n",
       "       1, 1, 1, 1, 0, 1, 1, 0, 1, 0, 1, 0, 0, 0, 0, 0, 1, 0, 1, 0, 1, 1,\n",
       "       0, 1, 1, 1, 0, 1, 0, 0, 0, 0, 1, 0, 0, 0, 0, 1, 1, 0, 0, 0, 1, 0,\n",
       "       1, 0, 1, 0, 1, 0, 0, 0, 0, 0, 0, 1, 0, 0, 1, 0, 0, 1, 1, 1, 1, 1,\n",
       "       0, 0, 0, 0, 1, 0, 1, 0, 1, 0, 0, 0, 0, 0, 0, 0, 1, 0, 0, 0, 1, 1,\n",
       "       0, 0, 0, 0, 1, 0, 0, 0, 1, 1, 0, 1, 0, 0, 0, 0, 0, 1, 0, 0, 1, 0,\n",
       "       0, 0, 0, 0, 1, 0, 0, 0, 0, 0, 1, 0, 0, 0, 0, 0, 0, 0, 0, 1, 1, 1,\n",
       "       0, 0, 0, 0, 0, 0, 1, 1, 0, 0, 0, 0, 0, 0, 0, 0, 1, 0, 1, 0, 0, 0,\n",
       "       1, 0, 0, 0, 0, 0, 0, 0, 0, 0, 0, 0, 0, 1, 0, 1, 0, 1, 0, 1, 1, 0,\n",
       "       0, 0, 1, 0, 1, 0, 0, 0, 0, 1, 1, 0, 1, 0, 0, 0, 1, 0, 0, 1, 0, 0,\n",
       "       1, 1, 0, 0, 0, 0, 0, 0, 1, 0, 0, 1, 0, 0, 0, 0, 0, 1, 1, 0, 0, 1,\n",
       "       0, 1, 0, 0, 1, 0, 1, 0, 0, 0, 0, 0, 0, 1, 0, 1, 0, 0, 1, 0, 0, 1],\n",
       "      dtype=int64)"
      ]
     },
     "execution_count": 39,
     "metadata": {},
     "output_type": "execute_result"
    }
   ],
   "source": [
    "y_pred_rf"
   ]
  },
  {
   "cell_type": "markdown",
   "id": "5d64bada",
   "metadata": {},
   "source": [
    "# support Vector machine(svm)"
   ]
  },
  {
   "cell_type": "code",
   "execution_count": 40,
   "id": "5b23b826-941b-4a9f-aee1-d23cf4ea7089",
   "metadata": {},
   "outputs": [],
   "source": [
    "from sklearn.svm import SVC"
   ]
  },
  {
   "cell_type": "code",
   "execution_count": 41,
   "id": "95044dcb",
   "metadata": {},
   "outputs": [],
   "source": [
    "param_grid_svm = {\n",
    "    'C': [0.1, 1, 10, 100],\n",
    "    'gamma': ['scale', 'auto'],\n",
    "    'kernel': ['linear', 'rbf']\n",
    "}"
   ]
  },
  {
   "cell_type": "code",
   "execution_count": 42,
   "id": "522d0f32",
   "metadata": {},
   "outputs": [
    {
     "name": "stdout",
     "output_type": "stream",
     "text": [
      "Best parameters for SVM: {'C': 1, 'gamma': 'scale', 'kernel': 'rbf'}\n",
      "SVM - Precision: 0.9285714285714286, Recall: 0.9407894736842105\n"
     ]
    }
   ],
   "source": [
    "svm = SVC()\n",
    "grid_search_svm = GridSearchCV(svm, param_grid_svm, cv=5, scoring='accuracy')\n",
    "grid_search_svm.fit(X_train, y_train)\n",
    "best_params_svm = grid_search_svm.best_params_\n",
    "print(f\"Best parameters for SVM: {best_params_svm}\")\n",
    "y_pred_svm = grid_search_svm.predict(X_test)\n",
    "precision_svm = precision_score(y_test, y_pred_svm)\n",
    "recall_svm = recall_score(y_test, y_pred_svm)\n",
    "print(f\"SVM - Precision: {precision_svm}, Recall: {recall_svm}\")"
   ]
  },
  {
   "cell_type": "code",
   "execution_count": 43,
   "id": "6f12aa99-ac38-4bfc-ad8e-7e1addf8ba47",
   "metadata": {},
   "outputs": [
    {
     "name": "stdout",
     "output_type": "stream",
     "text": [
      "result for support vector machine \n",
      "pred : real\n",
      "0  :  0\n",
      "1  :  1\n",
      "0  :  0\n",
      "0  :  0\n",
      "1  :  1\n",
      "0  :  0\n",
      "1  :  1\n",
      "0  :  0\n",
      "1  :  1\n",
      "0  :  0\n",
      "0  :  0\n",
      "0  :  0\n",
      "1  :  1\n",
      "0  :  0\n",
      "1  :  1\n",
      "1  :  1\n",
      "0  :  0\n",
      "0  :  0\n",
      "1  :  1\n",
      "1  :  1\n",
      "0  :  0\n",
      "1  :  0\n",
      "1  :  1\n",
      "0  :  0\n",
      "1  :  1\n",
      "0  :  0\n",
      "1  :  1\n",
      "0  :  0\n",
      "0  :  0\n",
      "0  :  0\n",
      "0  :  0\n",
      "0  :  0\n",
      "0  :  1\n",
      "0  :  1\n",
      "0  :  0\n",
      "0  :  0\n",
      "1  :  1\n",
      "1  :  1\n",
      "0  :  0\n",
      "0  :  0\n",
      "0  :  0\n",
      "0  :  0\n",
      "0  :  0\n",
      "1  :  1\n",
      "1  :  1\n",
      "0  :  0\n",
      "0  :  0\n",
      "0  :  0\n",
      "1  :  1\n",
      "1  :  1\n",
      "0  :  0\n",
      "0  :  0\n",
      "1  :  1\n",
      "1  :  1\n",
      "0  :  0\n",
      "0  :  0\n",
      "0  :  0\n",
      "0  :  0\n",
      "0  :  0\n",
      "1  :  1\n",
      "0  :  0\n",
      "0  :  0\n",
      "0  :  0\n",
      "1  :  1\n",
      "1  :  0\n",
      "1  :  1\n",
      "1  :  1\n",
      "0  :  0\n",
      "0  :  0\n",
      "0  :  1\n",
      "1  :  1\n",
      "0  :  0\n",
      "1  :  1\n",
      "0  :  0\n",
      "1  :  1\n",
      "0  :  0\n",
      "0  :  0\n",
      "1  :  1\n",
      "0  :  0\n",
      "1  :  1\n",
      "1  :  0\n",
      "0  :  0\n",
      "0  :  0\n",
      "0  :  0\n",
      "0  :  0\n",
      "0  :  0\n",
      "1  :  1\n",
      "1  :  1\n",
      "1  :  1\n",
      "1  :  0\n",
      "1  :  1\n",
      "0  :  0\n",
      "1  :  1\n",
      "0  :  0\n",
      "0  :  0\n",
      "0  :  0\n",
      "1  :  1\n",
      "0  :  0\n",
      "1  :  1\n",
      "0  :  0\n",
      "1  :  1\n",
      "0  :  0\n",
      "0  :  0\n",
      "0  :  0\n",
      "1  :  1\n",
      "0  :  0\n",
      "0  :  0\n",
      "0  :  0\n",
      "0  :  0\n",
      "0  :  0\n",
      "0  :  0\n",
      "1  :  1\n",
      "1  :  1\n",
      "1  :  1\n",
      "1  :  1\n",
      "0  :  0\n",
      "0  :  0\n",
      "1  :  1\n",
      "0  :  0\n",
      "1  :  1\n",
      "1  :  1\n",
      "0  :  0\n",
      "1  :  1\n",
      "0  :  0\n",
      "0  :  0\n",
      "1  :  1\n",
      "0  :  0\n",
      "1  :  1\n",
      "0  :  0\n",
      "0  :  0\n",
      "0  :  0\n",
      "0  :  0\n",
      "0  :  1\n",
      "0  :  0\n",
      "0  :  0\n",
      "0  :  0\n",
      "0  :  0\n",
      "0  :  0\n",
      "1  :  1\n",
      "0  :  0\n",
      "0  :  1\n",
      "1  :  1\n",
      "0  :  0\n",
      "0  :  0\n",
      "0  :  0\n",
      "0  :  0\n",
      "0  :  0\n",
      "0  :  0\n",
      "0  :  0\n",
      "0  :  0\n",
      "1  :  1\n",
      "0  :  0\n",
      "0  :  0\n",
      "1  :  1\n",
      "0  :  0\n",
      "0  :  0\n",
      "1  :  1\n",
      "1  :  1\n",
      "0  :  0\n",
      "1  :  1\n",
      "1  :  1\n",
      "1  :  0\n",
      "1  :  1\n",
      "0  :  0\n",
      "0  :  0\n",
      "1  :  1\n",
      "0  :  0\n",
      "0  :  0\n",
      "1  :  1\n",
      "1  :  1\n",
      "0  :  0\n",
      "0  :  0\n",
      "0  :  0\n",
      "0  :  0\n",
      "0  :  0\n",
      "1  :  1\n",
      "1  :  1\n",
      "0  :  0\n",
      "1  :  1\n",
      "1  :  1\n",
      "0  :  0\n",
      "0  :  0\n",
      "1  :  1\n",
      "0  :  0\n",
      "1  :  1\n",
      "0  :  0\n",
      "1  :  1\n",
      "0  :  0\n",
      "0  :  1\n",
      "0  :  0\n",
      "0  :  0\n",
      "0  :  0\n",
      "0  :  0\n",
      "0  :  0\n",
      "1  :  0\n",
      "0  :  0\n",
      "1  :  0\n",
      "1  :  1\n",
      "0  :  0\n",
      "1  :  1\n",
      "1  :  1\n",
      "1  :  0\n",
      "0  :  0\n",
      "1  :  1\n",
      "0  :  0\n",
      "0  :  0\n",
      "1  :  1\n",
      "0  :  0\n",
      "1  :  1\n",
      "0  :  0\n",
      "0  :  0\n",
      "0  :  0\n",
      "0  :  0\n",
      "1  :  1\n",
      "0  :  1\n",
      "0  :  0\n",
      "1  :  1\n",
      "0  :  0\n",
      "1  :  1\n",
      "0  :  0\n",
      "1  :  1\n",
      "0  :  0\n",
      "1  :  1\n",
      "0  :  0\n",
      "1  :  1\n",
      "1  :  1\n",
      "0  :  0\n",
      "1  :  1\n",
      "0  :  0\n",
      "0  :  0\n",
      "0  :  0\n",
      "1  :  1\n",
      "0  :  0\n",
      "0  :  0\n",
      "0  :  0\n",
      "0  :  0\n",
      "0  :  0\n",
      "0  :  0\n",
      "1  :  1\n",
      "1  :  1\n",
      "1  :  1\n",
      "1  :  1\n",
      "0  :  0\n",
      "0  :  0\n",
      "0  :  0\n",
      "0  :  0\n",
      "1  :  1\n",
      "0  :  0\n",
      "1  :  1\n",
      "1  :  1\n",
      "1  :  1\n",
      "0  :  0\n",
      "0  :  0\n",
      "0  :  0\n",
      "0  :  0\n",
      "0  :  0\n",
      "0  :  0\n",
      "0  :  0\n",
      "1  :  1\n",
      "0  :  0\n",
      "0  :  0\n",
      "0  :  0\n",
      "1  :  1\n",
      "1  :  1\n",
      "0  :  0\n",
      "0  :  0\n",
      "0  :  0\n",
      "0  :  0\n",
      "1  :  1\n",
      "0  :  0\n",
      "0  :  0\n",
      "0  :  0\n",
      "1  :  1\n",
      "1  :  1\n",
      "0  :  0\n",
      "1  :  1\n",
      "0  :  0\n",
      "0  :  0\n",
      "0  :  0\n",
      "0  :  0\n",
      "1  :  1\n",
      "1  :  0\n",
      "1  :  1\n",
      "1  :  1\n",
      "1  :  1\n",
      "0  :  0\n",
      "0  :  0\n",
      "0  :  0\n",
      "0  :  0\n",
      "0  :  0\n",
      "0  :  0\n",
      "1  :  1\n",
      "0  :  0\n",
      "0  :  0\n",
      "0  :  0\n",
      "0  :  0\n",
      "1  :  1\n",
      "0  :  0\n",
      "0  :  0\n",
      "0  :  0\n",
      "0  :  0\n",
      "0  :  0\n",
      "0  :  0\n",
      "0  :  0\n",
      "1  :  1\n",
      "1  :  1\n",
      "0  :  0\n",
      "1  :  0\n",
      "0  :  0\n",
      "1  :  1\n",
      "0  :  0\n",
      "0  :  0\n",
      "0  :  0\n",
      "1  :  1\n",
      "1  :  1\n",
      "1  :  1\n",
      "0  :  0\n",
      "0  :  0\n",
      "0  :  0\n",
      "0  :  0\n",
      "0  :  0\n",
      "0  :  0\n",
      "0  :  0\n",
      "0  :  0\n",
      "1  :  1\n",
      "0  :  0\n",
      "1  :  1\n",
      "0  :  0\n",
      "0  :  0\n",
      "0  :  0\n",
      "1  :  1\n",
      "0  :  0\n",
      "0  :  0\n",
      "1  :  1\n",
      "0  :  0\n",
      "0  :  0\n",
      "0  :  0\n",
      "0  :  0\n",
      "0  :  0\n",
      "0  :  0\n",
      "0  :  0\n",
      "0  :  0\n",
      "0  :  0\n",
      "1  :  1\n",
      "0  :  0\n",
      "1  :  1\n",
      "0  :  0\n",
      "1  :  1\n",
      "0  :  0\n",
      "1  :  1\n",
      "1  :  1\n",
      "0  :  0\n",
      "0  :  0\n",
      "0  :  0\n",
      "1  :  1\n",
      "0  :  0\n",
      "1  :  1\n",
      "0  :  0\n",
      "0  :  0\n",
      "1  :  1\n",
      "0  :  0\n",
      "1  :  1\n",
      "1  :  1\n",
      "0  :  0\n",
      "1  :  1\n",
      "0  :  1\n",
      "0  :  0\n",
      "1  :  1\n",
      "1  :  1\n",
      "0  :  0\n",
      "0  :  0\n",
      "1  :  1\n",
      "0  :  0\n",
      "0  :  0\n",
      "1  :  1\n",
      "1  :  1\n",
      "0  :  1\n",
      "0  :  0\n",
      "0  :  0\n",
      "0  :  0\n",
      "0  :  0\n",
      "0  :  0\n",
      "1  :  1\n",
      "1  :  1\n",
      "0  :  0\n",
      "1  :  1\n",
      "0  :  0\n",
      "0  :  0\n",
      "0  :  0\n",
      "0  :  0\n",
      "0  :  0\n",
      "1  :  1\n",
      "1  :  0\n",
      "0  :  0\n",
      "0  :  0\n",
      "1  :  1\n",
      "0  :  0\n",
      "1  :  1\n",
      "0  :  0\n",
      "0  :  0\n",
      "1  :  1\n",
      "0  :  0\n",
      "1  :  1\n",
      "0  :  0\n",
      "0  :  0\n",
      "0  :  0\n",
      "0  :  0\n",
      "0  :  0\n",
      "1  :  1\n",
      "1  :  1\n",
      "1  :  1\n",
      "1  :  1\n",
      "1  :  1\n",
      "0  :  0\n",
      "1  :  1\n",
      "0  :  0\n",
      "0  :  0\n",
      "0  :  0\n"
     ]
    }
   ],
   "source": [
    "print(\"result for support vector machine \")\n",
    "print(\"pred : real\")\n",
    "for i,j in zip(y_pred_svm,y_test):\n",
    "    print(i,\" : \",j)"
   ]
  },
  {
   "cell_type": "markdown",
   "id": "cbf4e940",
   "metadata": {},
   "source": [
    "# Gradient Boosting Classifier"
   ]
  },
  {
   "cell_type": "code",
   "execution_count": 44,
   "id": "c3978eb6-fbac-46dc-86c8-6ff9415125d3",
   "metadata": {},
   "outputs": [],
   "source": [
    "from sklearn.ensemble import GradientBoostingClassifier"
   ]
  },
  {
   "cell_type": "code",
   "execution_count": 45,
   "id": "ecac4192",
   "metadata": {},
   "outputs": [],
   "source": [
    "param_grid_gb = {\n",
    "    'n_estimators': [50, 100, 200],\n",
    "    'learning_rate': [0.01, 0.1, 0.5],\n",
    "    'max_depth': [3, 5, 10]\n",
    "}"
   ]
  },
  {
   "cell_type": "code",
   "execution_count": 46,
   "id": "92e27690",
   "metadata": {},
   "outputs": [
    {
     "name": "stdout",
     "output_type": "stream",
     "text": [
      "Best parameters for Gradient Boosting: {'learning_rate': 0.1, 'max_depth': 5, 'n_estimators': 100}\n",
      "Gradient Boosting - Precision: 0.7647058823529411, Recall: 0.7697368421052632\n"
     ]
    }
   ],
   "source": [
    "gb = GradientBoostingClassifier(random_state=42)\n",
    "grid_search_gb = GridSearchCV(gb, param_grid_gb, cv=5, scoring='accuracy')\n",
    "grid_search_gb.fit(X_train, y_train)\n",
    "best_params_gb = grid_search_gb.best_params_\n",
    "print(f\"Best parameters for Gradient Boosting: {best_params_gb}\")\n",
    "y_pred_gb = grid_search_gb.predict(X_test)\n",
    "precision_gb = precision_score(y_test, y_pred_gb)\n",
    "recall_gb = recall_score(y_test, y_pred_gb)\n",
    "print(f\"Gradient Boosting - Precision: {precision_gb}, Recall: {recall_gb}\")"
   ]
  },
  {
   "cell_type": "code",
   "execution_count": 47,
   "id": "bb98667b",
   "metadata": {},
   "outputs": [],
   "source": [
    "from sklearn.model_selection import GridSearchCV, cross_val_score"
   ]
  },
  {
   "cell_type": "markdown",
   "id": "0db54f89",
   "metadata": {},
   "source": [
    "# Cross-Validation for Logistic Regression"
   ]
  },
  {
   "cell_type": "code",
   "execution_count": 48,
   "id": "2218e4ef-032c-4ac4-8a7d-218d4ad46347",
   "metadata": {},
   "outputs": [],
   "source": [
    "X=pd.concat([X_train,X_test])\n",
    "y=pd.concat([y_train,y_test])"
   ]
  },
  {
   "cell_type": "code",
   "execution_count": 50,
   "id": "1aab4d8d",
   "metadata": {},
   "outputs": [
    {
     "name": "stdout",
     "output_type": "stream",
     "text": [
      "Cross-validated Accuracy for DecisionTree: 0.8373607089584978\n"
     ]
    }
   ],
   "source": [
    "dct_cv_scores = cross_val_score(grid_search_dct, X, y, cv=5, scoring='accuracy')\n",
    "print(f\"Cross-validated Accuracy for DecisionTree: {dct_cv_scores.mean()}\")"
   ]
  },
  {
   "cell_type": "markdown",
   "id": "aacb6d4f",
   "metadata": {},
   "source": [
    "# Cross-Validation for  Random Forest"
   ]
  },
  {
   "cell_type": "code",
   "execution_count": 51,
   "id": "623b35dc",
   "metadata": {},
   "outputs": [
    {
     "name": "stdout",
     "output_type": "stream",
     "text": [
      "Cross-validated Accuracy for Random Forest: 0.8732678190167004\n"
     ]
    }
   ],
   "source": [
    "rf_cv_scores = cross_val_score(grid_search_rf,  X, y, cv=5, scoring='accuracy')\n",
    "print(f\"Cross-validated Accuracy for Random Forest: {rf_cv_scores.mean()}\")"
   ]
  },
  {
   "cell_type": "markdown",
   "id": "35aa0e4d",
   "metadata": {},
   "source": [
    "# Cross-Validation for svm"
   ]
  },
  {
   "cell_type": "code",
   "execution_count": 52,
   "id": "6d9a1892",
   "metadata": {},
   "outputs": [
    {
     "name": "stdout",
     "output_type": "stream",
     "text": [
      "Cross-validated Accuracy for SVM: 0.8503612061653651\n"
     ]
    }
   ],
   "source": [
    "svm_cv_scores = cross_val_score(grid_search_svm, X, y, cv=5, scoring='accuracy')\n",
    "print(f\"Cross-validated Accuracy for SVM: {svm_cv_scores.mean()}\")"
   ]
  },
  {
   "cell_type": "markdown",
   "id": "0049fc74",
   "metadata": {},
   "source": [
    "# Cross-Validation for Gradient Boosting"
   ]
  },
  {
   "cell_type": "code",
   "execution_count": 53,
   "id": "2d95be98",
   "metadata": {},
   "outputs": [
    {
     "name": "stdout",
     "output_type": "stream",
     "text": [
      "Cross-validated Accuracy for Gradient Boosting: 0.8579801702202333\n"
     ]
    }
   ],
   "source": [
    "gb_cv_scores = cross_val_score(grid_search_gb,X, y, cv=5, scoring='accuracy')\n",
    "print(f\"Cross-validated Accuracy for Gradient Boosting: {gb_cv_scores.mean()}\")"
   ]
  },
  {
   "cell_type": "markdown",
   "id": "76162154-2de2-4f51-836a-662f930cec50",
   "metadata": {},
   "source": [
    "# ...THANK YOU..."
   ]
  },
  {
   "cell_type": "code",
   "execution_count": null,
   "id": "8954cf73-17c5-4637-841b-f851560a50fb",
   "metadata": {},
   "outputs": [],
   "source": []
  }
 ],
 "metadata": {
  "kernelspec": {
   "display_name": "Python 3 (ipykernel)",
   "language": "python",
   "name": "python3"
  },
  "language_info": {
   "codemirror_mode": {
    "name": "ipython",
    "version": 3
   },
   "file_extension": ".py",
   "mimetype": "text/x-python",
   "name": "python",
   "nbconvert_exporter": "python",
   "pygments_lexer": "ipython3",
   "version": "3.11.7"
  }
 },
 "nbformat": 4,
 "nbformat_minor": 5
}
